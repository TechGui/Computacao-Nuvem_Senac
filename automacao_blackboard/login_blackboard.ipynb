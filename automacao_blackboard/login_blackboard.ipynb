{
 "cells": [
  {
   "cell_type": "markdown",
   "metadata": {},
   "source": [
    "# Atividade 1 - Automação do Login Blackboard Senac\n",
    "#### Alunos: Guilherme da Rosa SIlva e Gerson Farias Clara\n",
    "##### Disciplina: Automação de Redes\n",
    "\n",
    "##### Objetivo: Automatizar o processo de login e navegação na plataforma Blackboard usando Selenium.\n",
    "Os comandos pip install selenium e pip install webdriver_manager são necessários para rodar o código."
   ]
  },
  {
   "cell_type": "code",
   "execution_count": null,
   "metadata": {},
   "outputs": [],
   "source": [
    "pip install selenium"
   ]
  },
  {
   "cell_type": "code",
   "execution_count": null,
   "metadata": {},
   "outputs": [],
   "source": [
    "pip install webdriver_manager"
   ]
  },
  {
   "cell_type": "markdown",
   "metadata": {},
   "source": [
    "Faz o importe das bibliotecas necessárias para rodar o código, à partir da instalação do Selenium e do Webdriver Manager.\n"
   ]
  },
  {
   "cell_type": "code",
   "execution_count": 3,
   "metadata": {},
   "outputs": [],
   "source": [
    "from selenium import webdriver\n",
    "from selenium.webdriver.common.by import By\n",
    "from selenium.webdriver.support.ui import WebDriverWait\n",
    "from selenium.webdriver.support import expected_conditions as EC"
   ]
  },
  {
   "cell_type": "code",
   "execution_count": 4,
   "metadata": {},
   "outputs": [],
   "source": [
    "import os\n",
    "from dotenv import load_dotenv"
   ]
  },
  {
   "cell_type": "markdown",
   "metadata": {},
   "source": [
    "#### ! É necessário criar um arquivo .env na raiz do projeto com as variáveis de ambiente para rodar o código. !\n",
    "\n",
    "Dentro do arquivo .env, é necessário criar as seguintes variáveis de ambiente:\n",
    "- BLACKBOARD_USER=seu_usuario\n",
    "- BLACKBOARD_PASS=sua_senha\n",
    "\n",
    "O código lê essas variáveis e utiliza-as no processo de login."
   ]
  },
  {
   "cell_type": "markdown",
   "metadata": {},
   "source": [
    "Carrega o dotenv para carregar as variáveis de ambiente do arquivo .env, que contém o login e senha do usuário.\n"
   ]
  },
  {
   "cell_type": "code",
   "execution_count": null,
   "metadata": {},
   "outputs": [],
   "source": [
    "load_dotenv()"
   ]
  },
  {
   "cell_type": "markdown",
   "metadata": {},
   "source": [
    "Carrega variáveis ​​de ambiente de um arquivo .env."
   ]
  },
  {
   "cell_type": "code",
   "execution_count": 7,
   "metadata": {},
   "outputs": [],
   "source": [
    "cpf = os.getenv('BLACKBOARD_CPF')\n",
    "senha = os.getenv('BLACKBOARD_SENHA')"
   ]
  },
  {
   "cell_type": "markdown",
   "metadata": {},
   "source": [
    "Caso não carregado corretamente, mostrará uma mensagem de erro."
   ]
  },
  {
   "cell_type": "code",
   "execution_count": 8,
   "metadata": {},
   "outputs": [],
   "source": [
    "if not cpf or not senha:\n",
    "    raise ValueError(\"As variáveis BLACKBOARD_CPF e BLACKBOARD_SENHA não foram carregadas corretamente do arquivo .env\")"
   ]
  },
  {
   "cell_type": "markdown",
   "metadata": {},
   "source": [
    "Solicita que o usuário selecione um dia da semana para acessar aulas específicas."
   ]
  },
  {
   "cell_type": "code",
   "execution_count": null,
   "metadata": {},
   "outputs": [],
   "source": [
    "print()\n",
    "print(\"Seja bem vindo ao Blackboard via terminal! Aqui você pode acessar suas aulas de forma rápida.\")\n",
    "print()\n",
    "\n",
    "cadeira = int(input(\"1. Segunda-feira\\n2. Terça-feira\\n3. Quarta-feira\\n4. Quinta-feira\\n5. Sexta-feira\\nOpção: \"))"
   ]
  },
  {
   "cell_type": "markdown",
   "metadata": {},
   "source": [
    "Repetição para garantir que o usuário selecione um dia válido."
   ]
  },
  {
   "cell_type": "code",
   "execution_count": 10,
   "metadata": {},
   "outputs": [],
   "source": [
    "if cadeira < 1 or cadeira > 5:\n",
    "    while cadeira < 1 or cadeira > 5:\n",
    "        print(\"Valor inválido!\")\n",
    "        cadeira = int(input(\"1. Segunda-feira\\n2. Terça-feira\\n3. Quarta-feira\\n4. Quinta-feira\\n5. Sexta-feira\\nOpção: \"))"
   ]
  },
  {
   "cell_type": "markdown",
   "metadata": {},
   "source": [
    "Abre o navegador Firefox e acessa o site do Blackboard."
   ]
  },
  {
   "cell_type": "code",
   "execution_count": 11,
   "metadata": {},
   "outputs": [],
   "source": [
    "navegador = webdriver.Firefox()"
   ]
  },
  {
   "cell_type": "markdown",
   "metadata": {},
   "source": [
    "Coloca o navegador em tela cheia."
   ]
  },
  {
   "cell_type": "code",
   "execution_count": 12,
   "metadata": {},
   "outputs": [],
   "source": [
    "navegador.maximize_window()"
   ]
  },
  {
   "cell_type": "code",
   "execution_count": 13,
   "metadata": {},
   "outputs": [],
   "source": [
    "navegador.get('https://senac.blackboard.com')"
   ]
  },
  {
   "cell_type": "markdown",
   "metadata": {},
   "source": [
    "Efetua login usando o CPF e a senha fornecidos no arquivo .env."
   ]
  },
  {
   "cell_type": "code",
   "execution_count": 14,
   "metadata": {},
   "outputs": [],
   "source": [
    "campoCPF = WebDriverWait(navegador, 10).until(\n",
    "    EC.presence_of_element_located((By.NAME, 'user_id_tmp'))\n",
    ")"
   ]
  },
  {
   "cell_type": "code",
   "execution_count": 15,
   "metadata": {},
   "outputs": [],
   "source": [
    "campoSenha = WebDriverWait(navegador, 10).until(\n",
    "    EC.presence_of_element_located((By.NAME, 'password'))\n",
    ")"
   ]
  },
  {
   "cell_type": "code",
   "execution_count": 16,
   "metadata": {},
   "outputs": [],
   "source": [
    "campoCPF.send_keys(cpf)"
   ]
  },
  {
   "cell_type": "code",
   "execution_count": 17,
   "metadata": {},
   "outputs": [],
   "source": [
    "campoSenha.send_keys(senha)"
   ]
  },
  {
   "cell_type": "markdown",
   "metadata": {},
   "source": [
    "Faz o login por completo."
   ]
  },
  {
   "cell_type": "code",
   "execution_count": 18,
   "metadata": {},
   "outputs": [],
   "source": [
    "navegador.find_element(By.ID, 'entry-login').click()\n"
   ]
  },
  {
   "cell_type": "markdown",
   "metadata": {},
   "source": [
    "Navega até a seção \"Salas de Aula\""
   ]
  },
  {
   "cell_type": "code",
   "execution_count": 19,
   "metadata": {},
   "outputs": [],
   "source": [
    "btnSalas = WebDriverWait(navegador, 120).until(\n",
    "    EC.presence_of_element_located((By.LINK_TEXT, 'Salas de Aula'))\n",
    ")"
   ]
  },
  {
   "cell_type": "markdown",
   "metadata": {},
   "source": [
    "Abre a sala de aula correspondente ao dia."
   ]
  },
  {
   "cell_type": "code",
   "execution_count": 20,
   "metadata": {},
   "outputs": [],
   "source": [
    "btnSalas.click()\n"
   ]
  },
  {
   "cell_type": "code",
   "execution_count": 21,
   "metadata": {},
   "outputs": [],
   "source": [
    "navegador.implicitly_wait(10)"
   ]
  },
  {
   "cell_type": "markdown",
   "metadata": {},
   "source": [
    "Localiza a barra de pesquisa input courses-overview-filter-search\n"
   ]
  },
  {
   "cell_type": "code",
   "execution_count": 22,
   "metadata": {},
   "outputs": [],
   "source": [
    "\n",
    "campoPesquisa = WebDriverWait(navegador, 10).until(\n",
    "    EC.presence_of_element_located((By.ID, 'courses-overview-filter-search'))\n",
    ")"
   ]
  },
  {
   "cell_type": "markdown",
   "metadata": {},
   "source": [
    "Faz uma relação entre cadeiras correspondentes à aula selecionada."
   ]
  },
  {
   "cell_type": "code",
   "execution_count": 23,
   "metadata": {},
   "outputs": [],
   "source": [
    "cadeiras = {\n",
    "    1: 'Projeto Integrador',\n",
    "    2: 'Gestão Ágil de Projetos',\n",
    "    3: 'Computação em Nuvem',\n",
    "    4: 'Linguagens de Programação Emergentes',\n",
    "    5: 'Automação e Programabilidade em Redes'\n",
    "}"
   ]
  },
  {
   "cell_type": "markdown",
   "metadata": {},
   "source": [
    "Após localizar a barra de pesquisa, apaga-se o conteúdo da barra de pesquisa para evitar problemas no preenchimento."
   ]
  },
  {
   "cell_type": "code",
   "execution_count": 28,
   "metadata": {},
   "outputs": [],
   "source": [
    "campoPesquisa.clear()"
   ]
  },
  {
   "cell_type": "markdown",
   "metadata": {},
   "source": [
    "Clica no link correspondente à aula selecionada e envia somente o primeiro nome da disciplina."
   ]
  },
  {
   "cell_type": "code",
   "execution_count": 29,
   "metadata": {},
   "outputs": [],
   "source": [
    "primeiro_nome_cadeira = cadeiras[cadeira].split()[0]\n",
    "campoPesquisa.send_keys(primeiro_nome_cadeira)"
   ]
  },
  {
   "cell_type": "markdown",
   "metadata": {},
   "source": [
    "Abre o link da disciplina selecionando o card correto baseado no número escolhido da disciplina."
   ]
  },
  {
   "cell_type": "code",
   "execution_count": 30,
   "metadata": {},
   "outputs": [],
   "source": [
    "try:\n",
    "    link_cadeira = WebDriverWait(navegador, 60).until(\n",
    "        EC.presence_of_element_located((By.PARTIAL_LINK_TEXT, cadeiras[cadeira]))\n",
    "    )\n",
    "    link_cadeira.click()\n",
    "except Exception as e:\n",
    "    print(f\"Erro: {e}\")\n",
    "    \n",
    "    links_presentes = navegador.find_elements(By.TAG_NAME, \"a\")\n",
    "    for link in links_presentes:\n",
    "        print(link.text)"
   ]
  },
  {
   "cell_type": "markdown",
   "metadata": {},
   "source": [
    "Caso o usuario queira fechar o navegador, ele pode pressionar enter no terminal."
   ]
  },
  {
   "cell_type": "code",
   "execution_count": 72,
   "metadata": {},
   "outputs": [],
   "source": [
    "input(\"Pressione Enter para fechar o navegador...\")\n",
    "navegador.quit()"
   ]
  }
 ],
 "metadata": {
  "kernelspec": {
   "display_name": "Python 3",
   "language": "python",
   "name": "python3"
  },
  "language_info": {
   "codemirror_mode": {
    "name": "ipython",
    "version": 3
   },
   "file_extension": ".py",
   "mimetype": "text/x-python",
   "name": "python",
   "nbconvert_exporter": "python",
   "pygments_lexer": "ipython3",
   "version": "3.12.3"
  }
 },
 "nbformat": 4,
 "nbformat_minor": 2
}
